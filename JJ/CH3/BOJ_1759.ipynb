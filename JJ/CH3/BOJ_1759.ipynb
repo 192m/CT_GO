{
 "cells": [
  {
   "cell_type": "markdown",
   "metadata": {},
   "source": [
    "문제 [백준 1759 ]  암호만들기_백트래킹\n",
    "\n",
    "\n",
    "바로 어제 최백준 조교가 방 열쇠를 주머니에 넣은 채 깜빡하고 서울로 가 버리는 황당한 상황에 직면한 조교들은, 702호에 새로운 보안 시스템을 설치하기로 하였다. 이 보안 시스템은 열쇠가 아닌 암호로 동작하게 되어 있는 시스템이다.\n",
    "\n",
    "암호는 서로 다른 L개의 알파벳 소문자들로 구성되며 최소 한 개의 모음(a, e, i, o, u)과 최소 두 개의 자음으로 구성되어 있다고 알려져 있다. 또한 정렬된 문자열을 선호하는 조교들의 성향으로 미루어 보아 암호를 이루는 알파벳이 암호에서 증가하는 순서로 배열되었을 것이라고 추측된다. 즉, abc는 가능성이 있는 암호이지만 bac는 그렇지 않다.\n",
    "\n",
    "새 보안 시스템에서 조교들이 암호로 사용했을 법한 문자의 종류는 C가지가 있다고 한다. 이 알파벳을 입수한 민식, 영식 형제는 조교들의 방에 침투하기 위해 암호를 추측해 보려고 한다. C개의 문자들이 모두 주어졌을 때, 가능성 있는 암호들을 모두 구하는 프로그램을 작성하시오.\n",
    "\n",
    "입력]\n",
    "첫째 줄에 두 정수 L, C가 주어진다. (3 ≤ L ≤ C ≤ 15) 다음 줄에는 C개의 문자들이 공백으로 구분되어 주어진다. 주어지는 문자들은 알파벳 소문자이며, 중복되는 것은 없다.\n",
    "\n",
    "출력]\n",
    "각 줄에 하나씩, 사전식으로 가능성 있는 암호를 모두 출력한다."
   ]
  },
  {
   "cell_type": "markdown",
   "metadata": {},
   "source": [
    "[ 예제 입력 1 ]\n",
    "4 6\n",
    "a t c i s w"
   ]
  },
  {
   "cell_type": "markdown",
   "metadata": {},
   "source": [
    "[ 예제 출력 1 ]\n",
    "acis\n",
    "acit\n",
    "aciw\n",
    "acst\n",
    "acsw\n",
    "actw\n",
    "aist\n",
    "aisw\n",
    "aitw\n",
    "astw\n",
    "cist\n",
    "cisw\n",
    "citw\n",
    "istw"
   ]
  },
  {
   "cell_type": "code",
   "execution_count": null,
   "metadata": {},
   "outputs": [],
   "source": [
    "vowel = ['a', 'e', 'i', 'o', 'u']\n",
    "\n",
    "L, C = map(int, input().split())\n",
    "words = input().split()\n",
    "\n",
    "words.sort() # 암호문의 모음, 자음을 확인하기 위해 모음으로 이루어진 리스트를 하나 선언\n",
    "\n",
    "def check(arr):\n",
    "    v_count, c_count = 0, 0 # 조합된 문자 배열에서 모음과 자음의 개수를 세기 위해 변수를 초기화\n",
    "\n",
    "    for i in arr:\n",
    "        if i in vowel:\n",
    "            v_count += 1\n",
    "        else:\n",
    "            c_count += 1\n",
    "\n",
    "    if v_count >= 1 and c_count >= 2: # 모음이 하나 이상이고 자음이 두 개 이상인 경우 True를, 그렇지 않으면 False를 반환\n",
    "        return True\n",
    "    else:\n",
    "        return False\n",
    "\n",
    "def backtracking(arr): # 현재 조합을 인수로 받아서 백트래킹을 수행하는 함수\n",
    "\n",
    "    if len(arr) == L: # 현재 조합의 길이가 L이면, check 함수를 호출하여 조건을 만족하는지 확인 -> 만족하면 조합을 출력하고 종료\n",
    "        if check(arr):\n",
    "            print(\"\".join(arr))\n",
    "            return\n",
    "\n",
    "    # 다음 문자를 선택하여 조합을 확장 , 이미 선택된 문자들보다 사전순으로 뒤에 오는 문자를 선택하여 조합을 만든다\n",
    "    # 선택된 문자를 배열에 추가하고, backtracking 함수를 재귀 호출합니다. 재귀 호출이 끝나면 마지막 문자를 제거하여 이전 상태로 돌아감\n",
    "    for i in range(len(arr), C):\n",
    "        if arr[-1] < words[i]:\n",
    "            arr.append(words[i])\n",
    "            backtracking(arr)\n",
    "            arr.pop()\n",
    "\n",
    "# 초기 선택을 위한 루프\n",
    "# 주어진 문자 리스트에서 가능한 첫 문자를 선택하여 배열 a에 저장하고, backtracking 함수를 호출하여 나머지 조합을 만든다\n",
    "# 이때 암호문의 길이(L)를 만들 수 없는 알파벳은 제외한다.\n",
    "# 예를 들어 예제에 있는 알파벳을 보면 a, c, i까지 암호문을 만들 수 있고 그 이후로는 암호문 길이를 만들지 못하니까 제외\n",
    "# 각 알파벳을 시작으로 backtracking 함수를 호출\n",
    "for i in range(C - L + 1):\n",
    "    a = [words[i]]\n",
    "    backtracking(a)"
   ]
  },
  {
   "cell_type": "markdown",
   "metadata": {},
   "source": [
    "def backtracking(arr):\n",
    "\n",
    "    if len(arr) == L:\n",
    "        if check(arr):\n",
    "            print(\"\".join(arr))\n",
    "            return\n",
    "\n",
    "    for i in range(len(arr), C):\n",
    "        if arr[-1] < words[i]:\n",
    "            arr.append(words[i])\n",
    "            backtracking(arr)\n",
    "            arr.pop()\n",
    "backtracking함수는 위와 같다.\n",
    "\n",
    "먼저 탈출 조건으로 암호 리스트의 길이가 L이 되면 check함수를 호출해 모음, 자음을 확인해 준다.\n",
    "\n",
    "조건이 참이면 암호를 출력하고 return 해준다. join 메서드를 써서 간편하게 출력해 줄 수 있다.\n",
    "\n",
    " \n",
    "\n",
    "아직 길이가 L이 아니면 알파벳을 하나씩 추가해 준다. if문을 사용해 암호문이 ascend 하게 알파벳을 추가해 준다."
   ]
  },
  {
   "cell_type": "markdown",
   "metadata": {},
   "source": [
    "def check(arr):\n",
    "    v_count, c_count = 0, 0 # 모음 개수, 자음 개수\n",
    "\n",
    "    for i in arr:\n",
    "        if i in vowel:\n",
    "            v_count += 1\n",
    "        else:\n",
    "            c_count += 1\n",
    "\n",
    "    if v_count >= 1 and c_count >= 2:\n",
    "        return True\n",
    "    else:\n",
    "        return False\n",
    "check함수는 위와 같다.\n",
    "\n",
    "입력받은 리스트(arr)를 한번 스캔하여 모음과 자음 개수를 확인하고 조건에 맞으면 True,\n",
    "\n",
    "조건에 맞지 않으면 False를 리턴해준다."
   ]
  }
 ],
 "metadata": {
  "kernelspec": {
   "display_name": "Python 3",
   "language": "python",
   "name": "python3"
  },
  "language_info": {
   "codemirror_mode": {
    "name": "ipython",
    "version": 3
   },
   "file_extension": ".py",
   "mimetype": "text/x-python",
   "name": "python",
   "nbconvert_exporter": "python",
   "pygments_lexer": "ipython3",
   "version": "3.10.5"
  }
 },
 "nbformat": 4,
 "nbformat_minor": 2
}
