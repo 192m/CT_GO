{
 "cells": [
  {
   "cell_type": "markdown",
   "metadata": {},
   "source": [
    "구현 / 상하좌우"
   ]
  },
  {
   "cell_type": "code",
   "execution_count": null,
   "metadata": {},
   "outputs": [],
   "source": [
    "# N 입력받기\n",
    "n = int(input())\n",
    "x, y = 1, 1      # 시작 좌표를 (1, 1)로 초기화\n",
    "plans = input().split()     # 공백을 기준으로 나누어 리스트로 만듦\n",
    "\n",
    "# L, R, U, D에 따른 이동 방향\n",
    "dx = [0, 0, -1, 1]\n",
    "dy = [-1, 1, 0, 0]\n",
    "move_types = ['L', 'R', 'U', 'D'] # 각각 리스트로 담아줘\n",
    "\n",
    "# 이동 계획을 하나씩 확인\n",
    "for plan in plans: # 리스트 plans의 처음부터 끝에 도착할 때까자. 반복문 실행\n",
    "    # 이동 후 좌표 구하기\n",
    "    for i in range(len(move_types)):\n",
    "        if plan == move_types[i]:     # 현재 이동 계획이 어떤 이동 방향인지 확인\n",
    "            # 현재 위치에서 이동 방향에 따라 새로운 x좌표와 y좌표를 계산\n",
    "            nx = x + dx[i]\n",
    "            ny = y + dy[i]\n",
    "    # 공간을 벗어나는 경우 if문 무시\n",
    "    if nx < 1 or ny < 1 or nx > n or ny > n:     # 새로운 좌표가 공간을 벗어나는지 확인\n",
    "        continue\n",
    "    # 이동 수행\n",
    "    x, y = nx, ny\n",
    "\n",
    "print(x, y)"
   ]
  }
 ],
 "metadata": {
  "language_info": {
   "name": "python"
  }
 },
 "nbformat": 4,
 "nbformat_minor": 2
}
