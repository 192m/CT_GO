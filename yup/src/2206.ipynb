{
 "cells": [
  {
   "cell_type": "code",
   "execution_count": null,
   "metadata": {},
   "outputs": [],
   "source": [
    "from collections import deque\n",
    "\n",
    "n, m = map(int, input().split())\n",
    "graph = []\n",
    "\n",
    "# 3차원 행렬을 통해 벽의 파괴를 파악함. visited[x][y][0]은 벽 파괴 가능. [x][y][1]은 불가능.\n",
    "visited = [[[0] * 2 for _ in range(m)] for _ in range(n)]\n",
    "visited[0][0][0] = 1\n",
    "\n",
    "for i in range(n):\n",
    "    graph.append(list(map(int, input())))\n",
    "\n",
    "# 상하좌우\n",
    "dx = [0, 0, 1, -1]\n",
    "dy = [1, -1, 0, 0]\n",
    "\n",
    "\n",
    "def bfs(x, y, z):\n",
    "    queue = deque()\n",
    "    queue.append((x, y, z))\n",
    "\n",
    "    while queue:\n",
    "        a, b, c = queue.popleft()\n",
    "        # 끝 점에 도달하면 이동 횟수를 출력\n",
    "        if a == n - 1 and b == m - 1:\n",
    "            return visited[a][b][c]\n",
    "        for i in range(4):\n",
    "            nx = a + dx[i]\n",
    "            ny = b + dy[i]\n",
    "            if nx < 0 or nx >= n or ny < 0 or ny >= m:\n",
    "                continue\n",
    "            # 다음 이동할 곳이 벽이고, 벽파괴기회를 사용하지 않은 경우\n",
    "            if graph[nx][ny] == 1 and c == 0 :\n",
    "                visited[nx][ny][1] = visited[a][b][0] + 1\n",
    "                queue.append((nx, ny, 1))\n",
    "            # 다음 이동할 곳이 벽이 아니고, 아직 한 번도 방문하지 않은 곳이면\n",
    "            elif graph[nx][ny] == 0 and visited[nx][ny][c] == 0:\n",
    "                visited[nx][ny][c] = visited[a][b][c] + 1\n",
    "                queue.append((nx, ny, c))\n",
    "    return -1\n",
    "\n",
    "\n",
    "print(bfs(0, 0, 0))"
   ]
  }
 ],
 "metadata": {
  "language_info": {
   "name": "python"
  }
 },
 "nbformat": 4,
 "nbformat_minor": 2
}
