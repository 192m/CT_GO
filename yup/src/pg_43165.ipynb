{
 "cells": [
  {
   "cell_type": "code",
   "execution_count": null,
   "metadata": {},
   "outputs": [],
   "source": [
    "from collections import deque\n",
    "\n",
    "def solution(numbers, target):\n",
    "    answer = 0  # 타겟 넘버를 만드는 방법의 수를 저장할 변수\n",
    "    queue = deque()  # BFS를 위한 큐를 생성\n",
    "    n = len(numbers)  # 주어진 숫자 리스트의 길이\n",
    "    \n",
    "    # 초기 상태로 첫 번째 숫자를 더하거나 빼는 두 가지 경우를 큐에 추가\n",
    "    queue.append([numbers[0], 0])\n",
    "    queue.append([-1 * numbers[0], 0])\n",
    "    \n",
    "    while queue:\n",
    "        temp, idx = queue.popleft()  # 큐에서 요소를 하나 꺼내어 현재 합과 인덱스를 얻음\n",
    "        idx += 1  # 다음 인덱스로 이동\n",
    "        \n",
    "        if idx < n:  # 아직 모든 숫자를 다 사용하지 않은 경우\n",
    "            # 다음 숫자를 더하거나 빼는 두 가지 경우를 큐에 추가\n",
    "            queue.append([temp + numbers[idx], idx])\n",
    "            queue.append([temp - numbers[idx], idx])\n",
    "        else:  # 모든 숫자를 다 사용한 경우\n",
    "            if temp == target:  # 현재 합이 타겟 넘버와 같으면\n",
    "                answer += 1  # 방법의 수를 하나 증가\n",
    "    \n",
    "    return answer  # 타겟 넘버를 만드는 방법의 수를 반환\n"
   ]
  }
 ],
 "metadata": {
  "language_info": {
   "name": "python"
  }
 },
 "nbformat": 4,
 "nbformat_minor": 2
}
