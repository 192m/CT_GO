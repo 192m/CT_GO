{
 "cells": [
  {
   "cell_type": "code",
   "execution_count": 20,
   "metadata": {},
   "outputs": [
    {
     "name": "stdout",
     "output_type": "stream",
     "text": [
      "7\n",
      "44\n",
      "274\n"
     ]
    }
   ],
   "source": [
    "t = int(input())\n",
    "\n",
    "for i in range(t):\n",
    "    n = int(input())\n",
    "    dp = [0] * (n+1)\n",
    "    if n != 1:\n",
    "        for j in range(n+1):\n",
    "            dp[0] = 1\n",
    "            dp[1] = 1\n",
    "            dp[2] = 2\n",
    "            if j >= 3:\n",
    "                dp[j] = dp[j-1] + dp[j-2] + dp[j-3]\n",
    "        print(dp[len(dp)-1])\n",
    "        i += 1\n",
    "    if n == 1:\n",
    "        print(1)\n",
    "        i += 1"
   ]
  }
 ],
 "metadata": {
  "kernelspec": {
   "display_name": "Python 3",
   "language": "python",
   "name": "python3"
  },
  "language_info": {
   "codemirror_mode": {
    "name": "ipython",
    "version": 3
   },
   "file_extension": ".py",
   "mimetype": "text/x-python",
   "name": "python",
   "nbconvert_exporter": "python",
   "pygments_lexer": "ipython3",
   "version": "3.9.6"
  }
 },
 "nbformat": 4,
 "nbformat_minor": 2
}
