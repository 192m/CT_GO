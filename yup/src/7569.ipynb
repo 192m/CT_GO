{
 "cells": [
  {
   "cell_type": "code",
   "execution_count": null,
   "metadata": {},
   "outputs": [],
   "source": [
    "import sys\n",
    "from collections import deque\n",
    "m,n,h = map(int,input().split()) # mn크기, h상자수\n",
    "graph = []\n",
    "queue = deque([])\n",
    " \n",
    "for i in range(h):\n",
    "    tmp = []\n",
    "    for j in range(n):\n",
    "        tmp.append(list(map(int,sys.stdin.readline().split())))\n",
    "        for k in range(m):\n",
    "            if tmp[j][k]==1:\n",
    "                queue.append([i,j,k])\n",
    "    graph.append(tmp)\n",
    "    \n",
    "dx = [-1,1,0,0,0,0]\n",
    "dy = [0,0,1,-1,0,0]\n",
    "dz = [0,0,0,0,1,-1]\n",
    "while(queue):\n",
    "    x,y,z = queue.popleft()\n",
    "    \n",
    "    for i in range(6):\n",
    "        a = x+dx[i]\n",
    "        b = y+dy[i]\n",
    "        c = z+dz[i]\n",
    "        if 0<=a<h and 0<=b<n and 0<=c<m and graph[a][b][c]==0:\n",
    "            queue.append([a,b,c])\n",
    "            graph[a][b][c] = graph[x][y][z]+1\n",
    "            \n",
    "day = 0\n",
    "for i in graph:\n",
    "    for j in i:\n",
    "        for k in j:\n",
    "            if k==0:\n",
    "                print(-1)\n",
    "                exit(0)\n",
    "        day = max(day,max(j))\n",
    "print(day-1)"
   ]
  }
 ],
 "metadata": {
  "language_info": {
   "name": "python"
  }
 },
 "nbformat": 4,
 "nbformat_minor": 2
}
