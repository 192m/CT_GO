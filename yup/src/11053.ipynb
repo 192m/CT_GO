{
 "cells": [
  {
   "cell_type": "code",
   "execution_count": null,
   "metadata": {},
   "outputs": [],
   "source": [
    "import sys\n",
    "\n",
    "n = int(sys.stdin.readline())\n",
    "a = list(map(int,input().split()))\n",
    "\n",
    "dn = [0 for i in range(n)]\n",
    "\n",
    "for i in range(n):\n",
    "    for j in range(i):\n",
    "        if a[i] > a[j] and dn[i] < dn[j]:\n",
    "            dn[i] = dn[j]\n",
    "    dn[i] += 1\n",
    "\n",
    "print(max(dn))"
   ]
  }
 ],
 "metadata": {
  "language_info": {
   "name": "python"
  }
 },
 "nbformat": 4,
 "nbformat_minor": 2
}
