{
 "cells": [
  {
   "cell_type": "code",
   "execution_count": null,
   "metadata": {},
   "outputs": [],
   "source": [
    "import sys\n",
    "\n",
    "n = int(input())\n",
    "timeline = []\n",
    "start = 0\n",
    "end = 0\n",
    "\n",
    "for i in range(n):\n",
    "    a, b = map(int, sys.stdin.readline().rstrip().split())\n",
    "    timeline.append([a, b])\n",
    "\n",
    "timeline.sort(key = lambda x:(x[1],x[0]))\n",
    "count = 1\n",
    "end = timeline[0][1]\n",
    "for i in range(1,n):\n",
    "    if timeline[i][0]>=end:\n",
    "        count += 1\n",
    "        end = timeline[i][1]\n",
    "    \n",
    "print(count)\n"
   ]
  }
 ],
 "metadata": {
  "language_info": {
   "name": "python"
  }
 },
 "nbformat": 4,
 "nbformat_minor": 2
}
