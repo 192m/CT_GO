{
 "cells": [
  {
   "cell_type": "code",
   "execution_count": null,
   "metadata": {},
   "outputs": [],
   "source": [
    "vowel = ['a', 'e', 'i', 'o', 'u']\n",
    "\n",
    "L, C = map(int, input().split())\n",
    "words = input().split()\n",
    "\n",
    "words.sort() \n",
    "\n",
    "def check(arr):\n",
    "    v_count, c_count = 0, 0 # 모음 개수, 자음 개수\n",
    "\n",
    "    for i in arr:\n",
    "        if i in vowel:\n",
    "            v_count += 1\n",
    "        else:\n",
    "            c_count += 1\n",
    "\n",
    "    if v_count >= 1 and c_count >= 2:\n",
    "        return True\n",
    "    else:\n",
    "        return False\n",
    "\n",
    "def backtracking(arr):\n",
    "\n",
    "    if len(arr) == L:\n",
    "        if check(arr):\n",
    "            print(\"\".join(arr))\n",
    "            return\n",
    "\n",
    "    for i in range(len(arr), C):\n",
    "        if arr[-1] < words[i]:\n",
    "            arr.append(words[i])\n",
    "            backtracking(arr)\n",
    "            arr.pop()\n",
    "\n",
    "for i in range(C - L + 1):\n",
    "    a = [words[i]]\n",
    "    backtracking(a)"
   ]
  }
 ],
 "metadata": {
  "language_info": {
   "name": "python"
  }
 },
 "nbformat": 4,
 "nbformat_minor": 2
}
