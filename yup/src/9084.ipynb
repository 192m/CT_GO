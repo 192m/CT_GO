{
 "cells": [
  {
   "cell_type": "code",
   "execution_count": 1,
   "metadata": {},
   "outputs": [
    {
     "name": "stdout",
     "output_type": "stream",
     "text": [
      "501\n",
      "121\n",
      "1\n"
     ]
    }
   ],
   "source": [
    "def coin_change_ways(test_cases):\n",
    "    results = []\n",
    "    \n",
    "    for case in test_cases:\n",
    "        N, coins, M = case\n",
    "        dp = [0] * (M + 1)\n",
    "        dp[0] = 1\n",
    "        \n",
    "        for coin in coins:\n",
    "            for j in range(coin, M + 1):\n",
    "                dp[j] += dp[j - coin]\n",
    "        \n",
    "        results.append(dp[M])\n",
    "    \n",
    "    return results\n",
    "\n",
    "# 입력 받기\n",
    "T = int(input().strip())\n",
    "test_cases = []\n",
    "\n",
    "for _ in range(T):\n",
    "    N = int(input().strip())\n",
    "    coins = list(map(int, input().strip().split()))\n",
    "    M = int(input().strip())\n",
    "    test_cases.append((N, coins, M))\n",
    "\n",
    "# 결과 계산\n",
    "results = coin_change_ways(test_cases)\n",
    "\n",
    "# 결과 출력\n",
    "for result in results:\n",
    "    print(result)\n"
   ]
  }
 ],
 "metadata": {
  "kernelspec": {
   "display_name": "Python 3",
   "language": "python",
   "name": "python3"
  },
  "language_info": {
   "codemirror_mode": {
    "name": "ipython",
    "version": 3
   },
   "file_extension": ".py",
   "mimetype": "text/x-python",
   "name": "python",
   "nbconvert_exporter": "python",
   "pygments_lexer": "ipython3",
   "version": "3.9.6"
  }
 },
 "nbformat": 4,
 "nbformat_minor": 2
}
