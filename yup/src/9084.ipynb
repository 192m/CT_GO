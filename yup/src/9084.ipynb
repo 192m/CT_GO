{
 "cells": [
  {
   "cell_type": "code",
   "execution_count": 1,
   "metadata": {},
   "outputs": [
    {
     "name": "stdout",
     "output_type": "stream",
     "text": [
      "501\n",
      "121\n",
      "1\n"
     ]
    }
   ],
   "source": [
    "def coin_change_ways(test_cases):\n",
    "    results = []  # 각 테스트 케이스에 대한 결과를 저장할 리스트\n",
    "\n",
    "    for case in test_cases:\n",
    "        N, coins, M = case  # 각 테스트 케이스에 대해 동전 수, 동전 리스트, 목표 금액을 추출\n",
    "        dp = [0] * (M + 1)  # 금액 M까지의 경우의 수를 저장할 dp 배열 초기화\n",
    "        dp[0] = 1  # 금액 0을 만드는 방법은 아무 동전도 사용하지 않는 1가지 방법\n",
    "\n",
    "        for coin in coins:  # 모든 동전에 대해 반복\n",
    "            for j in range(coin, M + 1):  # 현재 동전으로 만들 수 있는 금액부터 M까지 반복\n",
    "                dp[j] += dp[j - coin]  # 현재 금액을 만들 수 있는 방법의 수에 이전 상태를 더함\n",
    "\n",
    "        results.append(dp[M])  # 최종적으로 목표 금액 M을 만들 수 있는 경우의 수를 결과에 저장\n",
    "\n",
    "    return results  # 모든 테스트 케이스에 대한 결과를 반환\n",
    "\n",
    "# 입력 받기\n",
    "T = int(input().strip())  # 테스트 케이스의 수 입력\n",
    "test_cases = []  # 테스트 케이스를 저장할 리스트\n",
    "\n",
    "for _ in range(T):\n",
    "    N = int(input().strip())  # 동전의 종류 수 입력\n",
    "    coins = list(map(int, input().strip().split()))  # 동전의 가치를 리스트로 입력\n",
    "    M = int(input().strip())  # 목표 금액 입력\n",
    "    test_cases.append((N, coins, M))  # 각 테스트 케이스를 튜플로 저장\n",
    "\n",
    "# 결과 계산\n",
    "results = coin_change_ways(test_cases)  # 모든 테스트 케이스에 대해 결과 계산\n",
    "\n",
    "# 결과 출력\n",
    "for result in results:\n",
    "    print(result)  # 각 테스트 케이스에 대한 결과 출력\n"
   ]
  }
 ],
 "metadata": {
  "kernelspec": {
   "display_name": "Python 3",
   "language": "python",
   "name": "python3"
  },
  "language_info": {
   "codemirror_mode": {
    "name": "ipython",
    "version": 3
   },
   "file_extension": ".py",
   "mimetype": "text/x-python",
   "name": "python",
   "nbconvert_exporter": "python",
   "pygments_lexer": "ipython3",
   "version": "3.9.6"
  }
 },
 "nbformat": 4,
 "nbformat_minor": 2
}
