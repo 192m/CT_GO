{
 "cells": [
  {
   "cell_type": "code",
   "execution_count": null,
   "metadata": {},
   "outputs": [],
   "source": [
    "import sys\n",
    "\n",
    "# 입력 받기\n",
    "N, K = map(int, input().split())\n",
    "stuff = [[0, 0]]\n",
    "knapsack = [[0 for _ in range(K + 1)] for _ in range(N + 1)]\n",
    "\n",
    "for _ in range(N):\n",
    "    stuff.append(list(map(int, input().split())))\n",
    "\n",
    "# 배낭 문제 풀이\n",
    "for i in range(1, N + 1):\n",
    "    for j in range(1, K + 1):\n",
    "        weight = stuff[i][0] \n",
    "        value = stuff[i][1]\n",
    "        \n",
    "        if j < weight:\n",
    "            knapsack[i][j] = knapsack[i - 1][j]  # weight보다 작으면 위의 값을 그대로 가져온다\n",
    "        else:\n",
    "            knapsack[i][j] = max(value + knapsack[i - 1][j - weight], knapsack[i - 1][j])\n",
    "\n",
    "print(knapsack[N][K])\n"
   ]
  }
 ],
 "metadata": {
  "language_info": {
   "name": "python"
  }
 },
 "nbformat": 4,
 "nbformat_minor": 2
}
