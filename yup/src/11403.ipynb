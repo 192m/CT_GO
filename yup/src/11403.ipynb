{
 "cells": [
  {
   "cell_type": "markdown",
   "metadata": {},
   "source": [
    "inf = int(1e9)\n",
    "\n",
    "n = int(input())\n",
    "m = int(input())\n",
    "\n",
    "# 그래프의 초기값을 무한으로 초기화\n",
    "graph = [[inf] * (n+1) for _ in range(n+1)] \n",
    "\n",
    "for a in range(1,n+1):\n",
    "    for b in range(n+1):\n",
    "        if a == b:\n",
    "            graph[a][b] = 0\n",
    "\n",
    "#간선정보 초기화\n",
    "for _ in range(m):\n",
    "    a,b,c = map(int, input().split())\n",
    "    graph[a][b] = c\n",
    "\n",
    "#플로이드 워셜 수행\n",
    "for k in range(1,n+1):\n",
    "    for a in range(1,n+1):\n",
    "        for b in range(1,n+1):\n",
    "            graph[a][b] = min(graph[a][b],graph[a][k] + graph[k][b])\n",
    "\n",
    "#결과 출력\n",
    "for a in range(1,n+1):\n",
    "    for b in range(1,n+1):\n",
    "        if graph[a][b] == inf:\n",
    "            print(\"INF\")\n",
    "\n",
    "        else:\n",
    "            print(graph[a][b])\n",
    "    print()"
   ]
  },
  {
   "cell_type": "code",
   "execution_count": 4,
   "metadata": {},
   "outputs": [
    {
     "ename": "ValueError",
     "evalue": "invalid literal for int() with base 10: ''",
     "output_type": "error",
     "traceback": [
      "\u001b[0;31m---------------------------------------------------------------------------\u001b[0m",
      "\u001b[0;31mValueError\u001b[0m                                Traceback (most recent call last)",
      "Cell \u001b[0;32mIn[4], line 1\u001b[0m\n\u001b[0;32m----> 1\u001b[0m n \u001b[38;5;241m=\u001b[39m \u001b[38;5;28;43mint\u001b[39;49m\u001b[43m(\u001b[49m\u001b[38;5;28;43minput\u001b[39;49m\u001b[43m(\u001b[49m\u001b[43m)\u001b[49m\u001b[43m)\u001b[49m\n\u001b[1;32m      3\u001b[0m graph \u001b[38;5;241m=\u001b[39m [\u001b[38;5;28mlist\u001b[39m(\u001b[38;5;28mmap\u001b[39m(\u001b[38;5;28mint\u001b[39m,\u001b[38;5;28minput\u001b[39m()\u001b[38;5;241m.\u001b[39msplit())) \u001b[38;5;28;01mfor\u001b[39;00m _ \u001b[38;5;129;01min\u001b[39;00m \u001b[38;5;28mrange\u001b[39m(n)]\n\u001b[1;32m      5\u001b[0m \u001b[38;5;28;01mfor\u001b[39;00m i \u001b[38;5;129;01min\u001b[39;00m \u001b[38;5;28mrange\u001b[39m(n):\n",
      "\u001b[0;31mValueError\u001b[0m: invalid literal for int() with base 10: ''"
     ]
    }
   ],
   "source": [
    "import sys\n",
    "\n",
    "#a,b,c = map(int,sys.stdin.readline().split())\n",
    "\n",
    "\n",
    "n = int(input())\n",
    "\n",
    "graph = [list(map(int,input().split())) for _ in range(n)]\n",
    "\n",
    "for i in range(n):\n",
    "    for j in range(n):\n",
    "        for k in range(n):\n",
    "            if graph[j][i] and graph[i][k]:\n",
    "                graph[j][k] = 1\n",
    "\n",
    "for g in graph:\n",
    "    print(*g)"
   ]
  }
 ],
 "metadata": {
  "kernelspec": {
   "display_name": "Python 3",
   "language": "python",
   "name": "python3"
  },
  "language_info": {
   "codemirror_mode": {
    "name": "ipython",
    "version": 3
   },
   "file_extension": ".py",
   "mimetype": "text/x-python",
   "name": "python",
   "nbconvert_exporter": "python",
   "pygments_lexer": "ipython3",
   "version": "3.9.6"
  }
 },
 "nbformat": 4,
 "nbformat_minor": 2
}
