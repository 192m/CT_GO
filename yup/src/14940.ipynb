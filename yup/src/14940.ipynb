{
 "cells": [
  {
   "cell_type": "code",
   "execution_count": null,
   "metadata": {},
   "outputs": [],
   "source": [
    "import sys\n",
    "input = sys.stdin.readline\n",
    "\n",
    "from collections import deque\n",
    "N, M = map(int, input().split())\n",
    "graph = [list(map(int, input().split())) for _ in range(N)]\n",
    "visited = [[-1] * M for _ in range(N)]\n",
    "dx, dy = [0,0,-1,1], [-1,1,0,0]\n",
    "\n",
    "def bfs(i,j):\n",
    "    queue = deque()\n",
    "    queue.append((i,j))\n",
    "\n",
    "    visited[i][j] = 0\n",
    "\n",
    "    while queue:\n",
    "        x, y = queue.popleft()\n",
    "        \n",
    "        for i in range(4):\n",
    "            nx, ny = dx[i] + x, dy[i] + y\n",
    "            \n",
    "            if 0 <= nx < N and 0 <= ny < M and visited[nx][ny] == -1:\n",
    "                if graph[nx][ny] == 0: \n",
    "                    visited[nx][ny] = 0\n",
    "                elif graph[nx][ny] == 1:\n",
    "                    visited[nx][ny] = visited[x][y] + 1\n",
    "                    queue.append((nx,ny))\n",
    "\n",
    "for i in range(N):\n",
    "    for j in range(M):\n",
    "        if graph[i][j] == 2 and visited[i][j] == -1:\n",
    "            bfs(i,j)\n",
    "\n",
    "for i in range(N):\n",
    "    for j in range(M):\n",
    "        if graph[i][j] == 0:\n",
    "            print(0, end=' ')\n",
    "        else:\n",
    "            print(visited[i][j], end=' ')\n",
    "    print()"
   ]
  }
 ],
 "metadata": {
  "language_info": {
   "name": "python"
  }
 },
 "nbformat": 4,
 "nbformat_minor": 2
}
